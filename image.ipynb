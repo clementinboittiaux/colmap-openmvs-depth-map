{
 "cells": [
  {
   "cell_type": "code",
   "execution_count": null,
   "id": "a7b325be-ca5e-416c-9186-05cbc83c8ad5",
   "metadata": {},
   "outputs": [],
   "source": [
    "import os\n",
    "import PIL\n",
    "import argparse\n",
    "from pathlib import Path\n",
    "\n",
    "import cv2\n",
    "import torch\n",
    "import tqdm\n",
    "import numpy as np\n",
    "import matplotlib.pyplot as plt\n",
    "from pytorch3d.io import load_objs_as_meshes\n",
    "from pytorch3d.renderer import MeshRasterizer, RasterizationSettings, MeshRenderer\n",
    "from pytorch3d.renderer.blending import BlendParams\n",
    "\n",
    "from colmap.scripts.python.read_write_model import read_model\n",
    "from utils import SimpleShader, p3d_cam_from_colmap, p3dworld_to_colworld"
   ]
  },
  {
   "cell_type": "code",
   "execution_count": null,
   "id": "06021b25-b495-4d9c-a3bf-91678fde477e",
   "metadata": {},
   "outputs": [],
   "source": [
    "PIL.Image.MAX_IMAGE_PIXELS = 933120000\n",
    "\n",
    "obj_mesh_path = Path('/media/clementin/data/Dehazing/2015/textured_refined_dense_mesh.obj')\n",
    "colmap_model_dir = Path('/media/clementin/data/Dehazing/2015/sparse')\n",
    "image_name_list = os.listdir('/home/clementin/Documents/CVPR2023/results')\n",
    "device = 'cpu'"
   ]
  },
  {
   "cell_type": "code",
   "execution_count": null,
   "id": "e8fef688-8bff-4fa7-a920-691dfe390ed1",
   "metadata": {},
   "outputs": [],
   "source": [
    "print('Loading OBJ...')\n",
    "mesh = load_objs_as_meshes([obj_mesh_path], device=device)\n",
    "mesh._verts_list = [(p3dworld_to_colworld[:3, :3].to(device).T @ mesh._verts_list[0].T).T]\n",
    "\n",
    "print('Loading COLMAP model...')\n",
    "colmap_cameras, colmap_images, _ = read_model(colmap_model_dir)"
   ]
  },
  {
   "cell_type": "code",
   "execution_count": null,
   "id": "e6a5768d-fc79-4c22-8fb3-9a3f6236c7ab",
   "metadata": {},
   "outputs": [],
   "source": [
    "for colmap_image in colmap_images.values():\n",
    "    if colmap_image.name in image_name_list:\n",
    "        colmap_camera = colmap_cameras[colmap_image.camera_id]\n",
    "        p3d_cam = p3d_cam_from_colmap(colmap_image, colmap_camera, device=device)\n",
    "        rasterizer = MeshRasterizer(\n",
    "            cameras=p3d_cam,\n",
    "            raster_settings=RasterizationSettings(\n",
    "                image_size=(colmap_camera.height, colmap_camera.width),\n",
    "                blur_radius=0.0,\n",
    "                faces_per_pixel=1,\n",
    "                perspective_correct=True\n",
    "            )\n",
    "        )\n",
    "        renderer = MeshRenderer(\n",
    "            rasterizer=rasterizer,\n",
    "            shader=SimpleShader(blend_params=BlendParams(background_color=(0.0, 0.0, 0.0)))\n",
    "        )\n",
    "        image = renderer(mesh)\n",
    "        res_name = colmap_image.name.split('.')\n",
    "        res_name[1] += '_mesh'\n",
    "        res_name = '.'.join(res_name)\n",
    "        cv2.imwrite(str(Path('/home/clementin/Documents/CVPR2023/results') / res_name), np.uint8(image[0, :, :, :3].cpu().numpy()[:, :, ::-1] * 255))"
   ]
  },
  {
   "cell_type": "code",
   "execution_count": null,
   "id": "3ff6dea8-4b99-4378-86e9-37c3764a55be",
   "metadata": {},
   "outputs": [],
   "source": []
  }
 ],
 "metadata": {
  "kernelspec": {
   "display_name": "Python 3 (ipykernel)",
   "language": "python",
   "name": "python3"
  },
  "language_info": {
   "codemirror_mode": {
    "name": "ipython",
    "version": 3
   },
   "file_extension": ".py",
   "mimetype": "text/x-python",
   "name": "python",
   "nbconvert_exporter": "python",
   "pygments_lexer": "ipython3",
   "version": "3.9.13"
  }
 },
 "nbformat": 4,
 "nbformat_minor": 5
}
